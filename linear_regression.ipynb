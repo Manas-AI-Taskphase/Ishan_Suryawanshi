{
 "cells": [
  {
   "cell_type": "code",
   "execution_count": null,
   "metadata": {},
   "outputs": [],
   "source": [
    "import numpy as np\n",
    "import pandas as pd\n",
    "import matplotlib.pyplot as plt"
   ]
  },
  {
   "cell_type": "code",
   "execution_count": null,
   "metadata": {},
   "outputs": [],
   "source": [
    "ds = pd.read_csv('train.csv').to_numpy()\n",
    "df = pd.read_csv('test.csv').to_numpy()\n",
    "x_train = ds[:, :-1]\n",
    "y_train = ds[:, -1]\n",
    "x_test = df[:, :-1]\n",
    "y_test = df[:, -1]"
   ]
  },
  {
   "cell_type": "code",
   "execution_count": null,
   "metadata": {},
   "outputs": [],
   "source": [
    "class lin_regr:\n",
    "  def __init__(self):\n",
    "    self.intercept = None\n",
    "    self.coef = None\n",
    "\n",
    "  def fit(self, x_train, y_train):\n",
    "    x_train = np.insert(x_train, 0, 1, axis=1)\n",
    "    beta = np.linalg.inv(np.dot(x_train.T, x_train)).dot(x_train.T).dot(y_train)\n",
    "    self.intercept = beta[0]\n",
    "    self.coef = beta[1:]\n",
    "\n",
    "  def predict(self, x_test):\n",
    "    y_pred = np.dot(x_test, self.coef) + self.intercept\n",
    "    return y_pred"
   ]
  },
  {
   "cell_type": "code",
   "execution_count": null,
   "metadata": {},
   "outputs": [],
   "source": [
    "lr = lin_regr()\n",
    "lr.fit(x_train, y_train)\n",
    "pred = lr.predict(x_test)\n",
    "print(pred)"
   ]
  }
 ],
 "metadata": {
  "language_info": {
   "name": "python"
  }
 },
 "nbformat": 4,
 "nbformat_minor": 2
}
