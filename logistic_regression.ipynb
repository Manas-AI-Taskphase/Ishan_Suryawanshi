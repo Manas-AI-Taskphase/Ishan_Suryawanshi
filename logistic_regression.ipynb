{
 "cells": [
  {
   "cell_type": "code",
   "execution_count": null,
   "metadata": {
    "vscode": {
     "languageId": "plaintext"
    }
   },
   "outputs": [],
   "source": [
    "import numpy as np\n",
    "import pandas as pd\n",
    "import matplotlib.pyplot as plt"
   ]
  },
  {
   "cell_type": "code",
   "execution_count": null,
   "metadata": {
    "vscode": {
     "languageId": "plaintext"
    }
   },
   "outputs": [],
   "source": [
    "ds = pd.read_csv('train.csv').to_numpy()\n",
    "ds = np.delete(ds, 2, 1)\n",
    "ds = np.delete(ds, 3, 1)\n",
    "x_train = ds[:, 1:]\n",
    "y_train = ds[:, 0]\n",
    "df = pd.read_csv('test.csv').to_numpy()\n",
    "df = np.delete(df, 2, 1)\n",
    "df = np.delete(df, 3, 1)\n",
    "x_test = df[:, 1:]\n",
    "y_test = df[:, 0]"
   ]
  },
  {
   "cell_type": "code",
   "execution_count": null,
   "metadata": {
    "vscode": {
     "languageId": "plaintext"
    }
   },
   "outputs": [],
   "source": [
    "def sigmoid(x):\n",
    "  return 1/ (1+np.exp(-x))\n",
    "\n",
    "class log_regr:\n",
    "  def __init__(self, lr=0.01, n_iters=1000):\n",
    "    self.lr = lr\n",
    "    self.n_iters = n_iters\n",
    "    self.weights = None\n",
    "    self.bias = None\n",
    "\n",
    "  def fit(self, x_train, y_train):\n",
    "    n_rows, n_cols = x_train.shape\n",
    "    self.weights = np.zeros(n_cols)\n",
    "    self.bias = 0\n",
    "\n",
    "    for _ in range(self.n_iters):\n",
    "      linear_pred = np.dot(x_train, self.weights) + self.bias\n",
    "      predictions = sigmoid(linear_pred)\n",
    "\n",
    "      dw = (1/ n_rows) * np.dot(x_train.T, (predictions - y_train))\n",
    "      db = (1/ n_rows) * np.sum(predictions - y_train)\n",
    "\n",
    "      self.weights = self.weights - self.lr * dw\n",
    "      self.bias = self.bias - self.lr * db\n",
    "  \n",
    "  def predict(self, x_test):\n",
    "    linear_pred = np.dot(x_test, self.weights) + self.bias\n",
    "    y_pred = sigmoid(linear_pred)\n",
    "\n",
    "    class_pred = [0 if y <= 0.5 else 1 for y in y_pred]\n",
    "    return class_pred\n"
   ]
  },
  {
   "cell_type": "code",
   "execution_count": null,
   "metadata": {
    "vscode": {
     "languageId": "plaintext"
    }
   },
   "outputs": [],
   "source": [
    "reg = log_regr()\n",
    "reg.fit(x_train, y_train)\n",
    "y_pred = reg.predict(x_test)"
   ]
  },
  {
   "cell_type": "code",
   "execution_count": null,
   "metadata": {
    "vscode": {
     "languageId": "plaintext"
    }
   },
   "outputs": [],
   "source": [
    "def accuracy(y_pred, y_test):\n",
    "  return np.sum(y_pred == y_test)/len(y_test)\n",
    "acc = accuracy(y_pred, y_test)\n",
    "print(acc)"
   ]
  }
 ],
 "metadata": {
  "language_info": {
   "name": "python"
  }
 },
 "nbformat": 4,
 "nbformat_minor": 2
}
