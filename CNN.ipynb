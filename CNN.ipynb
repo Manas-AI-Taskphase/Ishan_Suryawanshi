{
  "nbformat": 4,
  "nbformat_minor": 0,
  "metadata": {
    "colab": {
      "provenance": []
    },
    "kernelspec": {
      "name": "python3",
      "display_name": "Python 3"
    },
    "language_info": {
      "name": "python"
    }
  },
  "cells": [
    {
      "cell_type": "code",
      "source": [
        "# Mount Google Drive\n",
        "from google.colab import drive\n",
        "drive.mount('/content/drive')\n",
        "\n",
        "# Access the folder containing the images\n",
        "import os\n",
        "\n",
        "# Adjust the path to the folder containing your images\n",
        "base_folder_path = '/content/drive/MyDrive/IITPK/CNN/DataSets'\n",
        "\n",
        "# Import necessary libraries\n",
        "import tensorflow as tf\n",
        "from tensorflow.keras import layers, models\n",
        "from tensorflow.keras.applications import ResNet50\n",
        "from sklearn.preprocessing import LabelEncoder\n",
        "\n",
        "# Load and preprocess your entire image dataset\n",
        "def load_and_preprocess_dataset(folder, max_images=500, target_size=(128, 128)):\n",
        "    images = []\n",
        "    labels = []\n",
        "\n",
        "    for label in os.listdir(folder):\n",
        "        label_path = os.path.join(folder, label)\n",
        "        image_count = 0\n",
        "        for filename in os.listdir(label_path):\n",
        "            if image_count >= max_images:\n",
        "                break\n",
        "            img_path = os.path.join(label_path, filename)\n",
        "            img = tf.io.read_file(img_path)\n",
        "            img = tf.image.decode_jpeg(img, channels=3)\n",
        "            img = tf.image.resize(img, target_size)\n",
        "            img = tf.keras.applications.resnet.preprocess_input(img)\n",
        "            images.append(img)\n",
        "            labels.append(label)\n",
        "            image_count += 1\n",
        "\n",
        "    return tf.convert_to_tensor(images), tf.convert_to_tensor(labels)\n",
        "\n",
        "# Load the entire training dataset\n",
        "train_images, train_labels = load_and_preprocess_dataset(os.path.join(base_folder_path, 'train'))\n",
        "\n",
        "# Load the entire testing dataset\n",
        "test_images, test_labels = load_and_preprocess_dataset(os.path.join(base_folder_path, 'test'))\n",
        "\n",
        "# Encode labels\n",
        "label_encoder = LabelEncoder()\n",
        "encoded_train_labels = label_encoder.fit_transform(train_labels)\n",
        "encoded_test_labels = label_encoder.transform(test_labels)\n",
        "\n",
        "# Build the ResNet50 model\n",
        "base_model = ResNet50(weights='imagenet', include_top=False, input_shape=(128, 128, 3))\n",
        "\n",
        "model = models.Sequential()\n",
        "model.add(base_model)\n",
        "model.add(layers.GlobalAveragePooling2D())\n",
        "model.add(layers.Dense(256, activation='relu'))\n",
        "model.add(layers.Dropout(0.5))\n",
        "model.add(layers.Dense(12, activation='softmax'))  # Assuming 12 categories\n",
        "\n",
        "# Freeze the weights of the ResNet50 base model\n",
        "base_model.trainable = False\n",
        "\n",
        "# Compile the model\n",
        "model.compile(optimizer='adam',\n",
        "              loss='sparse_categorical_crossentropy',\n",
        "              metrics=['accuracy'])\n",
        "\n",
        "# Train the model\n",
        "history = model.fit(\n",
        "    train_images, encoded_train_labels,\n",
        "    epochs=10,\n",
        "    validation_data=(test_images, encoded_test_labels)\n",
        ")\n",
        "\n",
        "# Plot accuracy over epochs\n",
        "import matplotlib.pyplot as plt\n",
        "\n",
        "plt.plot(history.history['accuracy'], label='accuracy')\n",
        "plt.plot(history.history['val_accuracy'], label='val_accuracy')\n",
        "plt.xlabel('Epoch')\n",
        "plt.ylabel('Accuracy')\n",
        "plt.ylim([0, 1])\n",
        "plt.legend(loc='lower right')\n",
        "plt.show()\n"
      ],
      "metadata": {
        "colab": {
          "base_uri": "https://localhost:8080/",
          "height": 854
        },
        "id": "hkfR5lxPWu8N",
        "outputId": "dee26d71-d3c2-46cb-fae0-e48715ca51f6"
      },
      "execution_count": 1,
      "outputs": [
        {
          "output_type": "stream",
          "name": "stdout",
          "text": [
            "Mounted at /content/drive\n",
            "Downloading data from https://storage.googleapis.com/tensorflow/keras-applications/resnet/resnet50_weights_tf_dim_ordering_tf_kernels_notop.h5\n",
            "94765736/94765736 [==============================] - 1s 0us/step\n",
            "Epoch 1/10\n",
            "156/156 [==============================] - 429s 3s/step - loss: 0.3847 - accuracy: 0.8908 - val_loss: 0.3581 - val_accuracy: 0.9006\n",
            "Epoch 2/10\n",
            "156/156 [==============================] - 418s 3s/step - loss: 0.0790 - accuracy: 0.9741 - val_loss: 0.5084 - val_accuracy: 0.8899\n",
            "Epoch 3/10\n",
            "156/156 [==============================] - 405s 3s/step - loss: 0.0523 - accuracy: 0.9864 - val_loss: 0.4090 - val_accuracy: 0.9101\n",
            "Epoch 4/10\n",
            "156/156 [==============================] - 411s 3s/step - loss: 0.0391 - accuracy: 0.9878 - val_loss: 0.3663 - val_accuracy: 0.9187\n",
            "Epoch 5/10\n",
            "156/156 [==============================] - 415s 3s/step - loss: 0.0227 - accuracy: 0.9920 - val_loss: 0.3362 - val_accuracy: 0.9220\n",
            "Epoch 6/10\n",
            "156/156 [==============================] - 414s 3s/step - loss: 0.0274 - accuracy: 0.9904 - val_loss: 0.5837 - val_accuracy: 0.8956\n",
            "Epoch 7/10\n",
            "156/156 [==============================] - 410s 3s/step - loss: 0.0210 - accuracy: 0.9938 - val_loss: 0.5273 - val_accuracy: 0.8969\n",
            "Epoch 8/10\n",
            "156/156 [==============================] - 411s 3s/step - loss: 0.0174 - accuracy: 0.9942 - val_loss: 0.3797 - val_accuracy: 0.9245\n",
            "Epoch 9/10\n",
            "156/156 [==============================] - 411s 3s/step - loss: 0.0107 - accuracy: 0.9972 - val_loss: 0.5091 - val_accuracy: 0.9084\n",
            "Epoch 10/10\n",
            "156/156 [==============================] - 410s 3s/step - loss: 0.0264 - accuracy: 0.9916 - val_loss: 0.4568 - val_accuracy: 0.9117\n"
          ]
        },
        {
          "output_type": "display_data",
          "data": {
            "text/plain": [
              "<Figure size 640x480 with 1 Axes>"
            ],
            "image/png": "[encoded data removed]"
          },
          "metadata": {}
        }
      ]
    }
  ]
}