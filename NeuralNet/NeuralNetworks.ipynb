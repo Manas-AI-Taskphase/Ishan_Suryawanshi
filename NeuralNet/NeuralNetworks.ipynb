{
  "nbformat": 4,
  "nbformat_minor": 0,
  "metadata": {
    "colab": {
      "provenance": []
    },
    "kernelspec": {
      "name": "python3",
      "display_name": "Python 3"
    },
    "language_info": {
      "name": "python"
    }
  },
  "cells": [
    {
      "cell_type": "code",
      "source": [
        "import numpy as np\n",
        "import pandas as pd\n",
        "import matplotlib.pyplot as plt"
      ],
      "metadata": {
        "id": "rw8paUVSqZjh"
      },
      "execution_count": null,
      "outputs": []
    },
    {
      "cell_type": "code",
      "source": [
        "df = pd.read_csv('SimpsonTrain.csv')\n",
        "data = np.array(df)\n",
        "m, n = data.shape\n",
        "np.random.shuffle(data)\n",
        "x_train = data[:, 1:]\n",
        "x_train = x_train / 255\n",
        "x_train = x_train.T\n",
        "y_train = data[:, 0]\n",
        "y_train = y_train.T"
      ],
      "metadata": {
        "id": "ZHbIPiEAqjUC"
      },
      "execution_count": null,
      "outputs": []
    },
    {
      "cell_type": "code",
      "source": [
        "ds = pd.read_csv('SimpsonTest.csv')\n",
        "dat = np.array(ds)\n",
        "x_test = dat[:, 1:]\n",
        "y_test = dat[:, 0]\n",
        "x_test = x_test / 255\n",
        "x_test = x_test.T\n",
        "y_test = y_test.T"
      ],
      "metadata": {
        "id": "EGHXTEFyYO5V"
      },
      "execution_count": null,
      "outputs": []
    },
    {
      "cell_type": "code",
      "source": [
        "def init_params():\n",
        "    W1 = np.random.rand(10, 784) - 0.5\n",
        "    b1 = np.random.rand(10, 1) - 0.5\n",
        "    W2 = np.random.rand(10, 10) - 0.5\n",
        "    b2 = np.random.rand(10, 1) - 0.5\n",
        "    return W1, b1, W2, b2\n",
        "\n",
        "def ReLU(Z):\n",
        "    return np.maximum(Z, 0)\n",
        "\n",
        "def softmax(Z):\n",
        "    A = np.exp(Z) / sum(np.exp(Z))\n",
        "    return A\n",
        "\n",
        "def forward_prop(W1, b1, W2, b2, X):\n",
        "    Z1 = W1.dot(X) + b1\n",
        "    A1 = ReLU(Z1)\n",
        "    Z2 = W2.dot(A1) + b2\n",
        "    A2 = softmax(Z2)\n",
        "    return Z1, A1, Z2, A2\n",
        "\n",
        "def ReLU_deriv(Z):\n",
        "    return Z > 0\n",
        "\n",
        "def one_hot(Y):\n",
        "    one_hot_Y = np.zeros((Y.size, Y.max() + 1))\n",
        "    one_hot_Y[np.arange(Y.size), Y] = 1\n",
        "    one_hot_Y = one_hot_Y.T\n",
        "    return one_hot_Y\n",
        "\n",
        "def backward_prop(Z1, A1, Z2, A2, W1, W2, X, Y):\n",
        "    one_hot_Y = one_hot(Y)\n",
        "    dZ2 = A2 - one_hot_Y\n",
        "    dW2 = 1 / m * dZ2.dot(A1.T)\n",
        "    db2 = 1 / m * np.sum(dZ2)\n",
        "    dZ1 = W2.T.dot(dZ2) * ReLU_deriv(Z1)\n",
        "    dW1 = 1 / m * dZ1.dot(X.T)\n",
        "    db1 = 1 / m * np.sum(dZ1)\n",
        "    return dW1, db1, dW2, db2\n",
        "\n",
        "def update_params(W1, b1, W2, b2, dW1, db1, dW2, db2, alpha):\n",
        "    W1 = W1 - alpha * dW1\n",
        "    b1 = b1 - alpha * db1\n",
        "    W2 = W2 - alpha * dW2\n",
        "    b2 = b2 - alpha * db2\n",
        "    return W1, b1, W2, b2"
      ],
      "metadata": {
        "id": "5jjNgthrq9jJ"
      },
      "execution_count": null,
      "outputs": []
    },
    {
      "cell_type": "code",
      "source": [],
      "metadata": {
        "id": "1Ge7RbxaW0mJ"
      },
      "execution_count": null,
      "outputs": []
    },
    {
      "cell_type": "code",
      "source": [
        "def get_predictions(A2):\n",
        "    return np.argmax(A2, 0)\n",
        "\n",
        "def get_accuracy(predictions, Y):\n",
        "    print(predictions, Y)\n",
        "    return np.sum(predictions == Y) / Y.size\n",
        "\n",
        "def gradient_descent(X, Y, alpha, iterations):\n",
        "    W1, b1, W2, b2 = init_params()\n",
        "    for i in range(iterations):\n",
        "        Z1, A1, Z2, A2 = forward_prop(W1, b1, W2, b2, X)\n",
        "        dW1, db1, dW2, db2 = backward_prop(Z1, A1, Z2, A2, W1, W2, X, Y)\n",
        "        W1, b1, W2, b2 = update_params(W1, b1, W2, b2, dW1, db1, dW2, db2, alpha)\n",
        "        if i % 1000 == 0:\n",
        "            print(\"Iteration: \", i)\n",
        "            predictions = get_predictions(A2)\n",
        "            print(get_accuracy(predictions, Y))\n",
        "    return W1, b1, W2, b2"
      ],
      "metadata": {
        "id": "r-_e2p-LrGIi"
      },
      "execution_count": null,
      "outputs": []
    },
    {
      "cell_type": "code",
      "source": [
        "W1, b1, W2, b2 = gradient_descent(x_train, y_train, 0.10, 100000)"
      ],
      "metadata": {
        "colab": {
          "base_uri": "https://localhost:8080/"
        },
        "id": "G1dWhPVPrJ6K",
        "outputId": "10366e29-c62e-486e-bbd5-524742b14691"
      },
      "execution_count": null,
      "outputs": [
        {
          "output_type": "stream",
          "name": "stdout",
          "text": [
            "Iteration:  0\n",
            "[9 9 9 ... 9 2 9] [6 3 1 ... 7 7 9]\n",
            "0.09975\n",
            "Iteration:  1000\n",
            "[5 7 7 ... 4 9 5] [6 3 1 ... 7 7 9]\n",
            "0.181875\n",
            "Iteration:  2000\n",
            "[5 1 4 ... 4 9 5] [6 3 1 ... 7 7 9]\n",
            "0.229875\n",
            "Iteration:  3000\n",
            "[5 1 4 ... 4 9 5] [6 3 1 ... 7 7 9]\n",
            "0.240375\n",
            "Iteration:  4000\n",
            "[5 1 4 ... 4 9 5] [6 3 1 ... 7 7 9]\n",
            "0.249875\n",
            "Iteration:  5000\n",
            "[5 1 4 ... 4 8 5] [6 3 1 ... 7 7 9]\n",
            "0.26175\n",
            "Iteration:  6000\n",
            "[6 1 4 ... 4 8 5] [6 3 1 ... 7 7 9]\n",
            "0.277375\n",
            "Iteration:  7000\n",
            "[6 1 4 ... 4 8 5] [6 3 1 ... 7 7 9]\n",
            "0.29\n",
            "Iteration:  8000\n",
            "[6 1 4 ... 4 8 5] [6 3 1 ... 7 7 9]\n",
            "0.2985\n",
            "Iteration:  9000\n",
            "[6 1 4 ... 4 8 5] [6 3 1 ... 7 7 9]\n",
            "0.31075\n",
            "Iteration:  10000\n",
            "[8 1 4 ... 4 8 9] [6 3 1 ... 7 7 9]\n",
            "0.31525\n",
            "Iteration:  11000\n",
            "[8 1 4 ... 4 8 9] [6 3 1 ... 7 7 9]\n",
            "0.31875\n",
            "Iteration:  12000\n",
            "[6 1 4 ... 4 8 5] [6 3 1 ... 7 7 9]\n",
            "0.33\n",
            "Iteration:  13000\n",
            "[6 1 4 ... 9 8 9] [6 3 1 ... 7 7 9]\n",
            "0.333125\n",
            "Iteration:  14000\n",
            "[6 1 4 ... 9 8 9] [6 3 1 ... 7 7 9]\n",
            "0.337375\n",
            "Iteration:  15000\n",
            "[9 1 4 ... 4 9 1] [6 3 1 ... 7 7 9]\n",
            "0.329\n",
            "Iteration:  16000\n",
            "[9 1 4 ... 4 9 1] [6 3 1 ... 7 7 9]\n",
            "0.33625\n",
            "Iteration:  17000\n",
            "[6 1 4 ... 3 8 8] [6 3 1 ... 7 7 9]\n",
            "0.346875\n",
            "Iteration:  18000\n",
            "[9 1 4 ... 9 9 9] [6 3 1 ... 7 7 9]\n",
            "0.337625\n",
            "Iteration:  19000\n",
            "[3 1 4 ... 9 3 1] [6 3 1 ... 7 7 9]\n",
            "0.35475\n",
            "Iteration:  20000\n",
            "[3 1 4 ... 3 8 9] [6 3 1 ... 7 7 9]\n",
            "0.364125\n",
            "Iteration:  21000\n",
            "[9 1 4 ... 9 9 8] [6 3 1 ... 7 7 9]\n",
            "0.356625\n",
            "Iteration:  22000\n",
            "[6 1 4 ... 9 8 5] [6 3 1 ... 7 7 9]\n",
            "0.369375\n",
            "Iteration:  23000\n",
            "[6 1 4 ... 3 3 5] [6 3 1 ... 7 7 9]\n",
            "0.36475\n",
            "Iteration:  24000\n",
            "[6 1 4 ... 3 3 5] [6 3 1 ... 7 7 9]\n",
            "0.378375\n",
            "Iteration:  25000\n",
            "[6 1 4 ... 3 3 8] [6 3 1 ... 7 7 9]\n",
            "0.384875\n",
            "Iteration:  26000\n",
            "[6 1 4 ... 9 9 5] [6 3 1 ... 7 7 9]\n",
            "0.387125\n",
            "Iteration:  27000\n",
            "[3 1 4 ... 3 9 1] [6 3 1 ... 7 7 9]\n",
            "0.371875\n",
            "Iteration:  28000\n",
            "[6 1 4 ... 3 9 5] [6 3 1 ... 7 7 9]\n",
            "0.376625\n",
            "Iteration:  29000\n",
            "[6 1 4 ... 3 9 1] [6 3 1 ... 7 7 9]\n",
            "0.374\n",
            "Iteration:  30000\n",
            "[6 1 4 ... 3 9 9] [6 3 1 ... 7 7 9]\n",
            "0.38425\n",
            "Iteration:  31000\n",
            "[6 1 4 ... 3 3 5] [6 3 1 ... 7 7 9]\n",
            "0.39\n",
            "Iteration:  32000\n",
            "[5 1 4 ... 4 5 5] [6 3 1 ... 7 7 9]\n",
            "0.367875\n",
            "Iteration:  33000\n",
            "[6 1 4 ... 9 9 8] [6 3 1 ... 7 7 9]\n",
            "0.383375\n",
            "Iteration:  34000\n",
            "[6 1 4 ... 3 9 1] [6 3 1 ... 7 7 9]\n",
            "0.382625\n",
            "Iteration:  35000\n",
            "[6 1 4 ... 3 3 5] [6 3 1 ... 7 7 9]\n",
            "0.399875\n",
            "Iteration:  36000\n",
            "[6 1 4 ... 3 9 8] [6 3 1 ... 7 7 9]\n",
            "0.413\n",
            "Iteration:  37000\n",
            "[6 1 4 ... 3 6 5] [6 3 1 ... 7 7 9]\n",
            "0.37475\n",
            "Iteration:  38000\n",
            "[6 1 4 ... 3 3 1] [6 3 1 ... 7 7 9]\n",
            "0.394875\n",
            "Iteration:  39000\n",
            "[6 1 4 ... 3 8 9] [6 3 1 ... 7 7 9]\n",
            "0.409625\n",
            "Iteration:  40000\n",
            "[6 1 4 ... 3 9 9] [6 3 1 ... 7 7 9]\n",
            "0.395125\n",
            "Iteration:  41000\n",
            "[6 1 4 ... 9 9 9] [6 3 1 ... 7 7 9]\n",
            "0.402875\n",
            "Iteration:  42000\n",
            "[6 1 4 ... 3 3 9] [6 3 1 ... 7 7 9]\n",
            "0.409\n",
            "Iteration:  43000\n",
            "[6 1 4 ... 9 9 1] [6 3 1 ... 7 7 9]\n",
            "0.413375\n",
            "Iteration:  44000\n",
            "[6 1 4 ... 9 9 9] [6 3 1 ... 7 7 9]\n",
            "0.391875\n",
            "Iteration:  45000\n",
            "[6 1 4 ... 3 6 5] [6 3 1 ... 7 7 9]\n",
            "0.40675\n",
            "Iteration:  46000\n",
            "[6 1 4 ... 9 9 1] [6 3 1 ... 7 7 9]\n",
            "0.3965\n",
            "Iteration:  47000\n",
            "[6 1 4 ... 3 8 9] [6 3 1 ... 7 7 9]\n",
            "0.423375\n",
            "Iteration:  48000\n",
            "[6 1 4 ... 9 5 5] [6 3 1 ... 7 7 9]\n",
            "0.4235\n",
            "Iteration:  49000\n",
            "[6 1 4 ... 3 3 5] [6 3 1 ... 7 7 9]\n",
            "0.429875\n",
            "Iteration:  50000\n",
            "[6 1 1 ... 9 9 1] [6 3 1 ... 7 7 9]\n",
            "0.420375\n",
            "Iteration:  51000\n",
            "[6 1 4 ... 3 8 9] [6 3 1 ... 7 7 9]\n",
            "0.423375\n",
            "Iteration:  52000\n",
            "[6 1 4 ... 9 9 9] [6 3 1 ... 7 7 9]\n",
            "0.428875\n",
            "Iteration:  53000\n",
            "[6 1 4 ... 3 9 1] [6 3 1 ... 7 7 9]\n",
            "0.427125\n",
            "Iteration:  54000\n",
            "[6 1 4 ... 3 3 5] [6 3 1 ... 7 7 9]\n",
            "0.435375\n",
            "Iteration:  55000\n",
            "[6 1 4 ... 9 9 8] [6 3 1 ... 7 7 9]\n",
            "0.446\n",
            "Iteration:  56000\n",
            "[6 1 4 ... 3 8 5] [6 3 1 ... 7 7 9]\n",
            "0.427875\n",
            "Iteration:  57000\n",
            "[6 1 4 ... 9 9 8] [6 3 1 ... 7 7 9]\n",
            "0.43275\n",
            "Iteration:  58000\n",
            "[6 1 4 ... 3 6 5] [6 3 1 ... 7 7 9]\n",
            "0.3945\n",
            "Iteration:  59000\n",
            "[6 1 4 ... 3 8 5] [6 3 1 ... 7 7 9]\n",
            "0.442375\n",
            "Iteration:  60000\n",
            "[6 1 1 ... 9 9 9] [6 3 1 ... 7 7 9]\n",
            "0.423125\n",
            "Iteration:  61000\n",
            "[6 1 5 ... 3 3 8] [6 3 1 ... 7 7 9]\n",
            "0.413375\n",
            "Iteration:  62000\n",
            "[6 1 4 ... 3 3 5] [6 3 1 ... 7 7 9]\n",
            "0.39525\n",
            "Iteration:  63000\n",
            "[6 1 1 ... 9 9 9] [6 3 1 ... 7 7 9]\n",
            "0.43475\n",
            "Iteration:  64000\n",
            "[6 1 4 ... 9 9 8] [6 3 1 ... 7 7 9]\n",
            "0.438875\n",
            "Iteration:  65000\n",
            "[6 1 1 ... 9 9 1] [6 3 1 ... 7 7 9]\n",
            "0.43425\n",
            "Iteration:  66000\n",
            "[6 1 4 ... 3 3 5] [6 3 1 ... 7 7 9]\n",
            "0.439375\n",
            "Iteration:  67000\n",
            "[6 1 4 ... 3 3 5] [6 3 1 ... 7 7 9]\n",
            "0.4415\n",
            "Iteration:  68000\n",
            "[6 1 9 ... 9 9 8] [6 3 1 ... 7 7 9]\n",
            "0.438875\n",
            "Iteration:  69000\n",
            "[6 1 4 ... 3 3 5] [6 3 1 ... 7 7 9]\n",
            "0.451375\n",
            "Iteration:  70000\n",
            "[6 1 4 ... 9 9 8] [6 3 1 ... 7 7 9]\n",
            "0.460875\n",
            "Iteration:  71000\n",
            "[6 1 1 ... 9 9 1] [6 3 1 ... 7 7 9]\n",
            "0.422125\n",
            "Iteration:  72000\n",
            "[6 1 5 ... 3 3 5] [6 3 1 ... 7 7 9]\n",
            "0.446875\n",
            "Iteration:  73000\n",
            "[6 1 1 ... 9 9 1] [6 3 1 ... 7 7 9]\n",
            "0.45625\n",
            "Iteration:  74000\n",
            "[6 1 4 ... 3 3 5] [6 3 1 ... 7 7 9]\n",
            "0.452375\n",
            "Iteration:  75000\n",
            "[6 1 5 ... 3 6 5] [6 3 1 ... 7 7 9]\n",
            "0.4305\n",
            "Iteration:  76000\n",
            "[6 1 1 ... 9 9 9] [6 3 1 ... 7 7 9]\n",
            "0.4325\n",
            "Iteration:  77000\n",
            "[6 1 1 ... 9 9 1] [6 3 1 ... 7 7 9]\n",
            "0.454\n",
            "Iteration:  78000\n",
            "[6 1 5 ... 3 3 5] [6 3 1 ... 7 7 9]\n",
            "0.41925\n",
            "Iteration:  79000\n",
            "[6 1 5 ... 3 8 8] [6 3 1 ... 7 7 9]\n",
            "0.441375\n",
            "Iteration:  80000\n",
            "[6 1 5 ... 9 6 5] [6 3 1 ... 7 7 9]\n",
            "0.438875\n",
            "Iteration:  81000\n",
            "[6 1 9 ... 9 9 1] [6 3 1 ... 7 7 9]\n",
            "0.41725\n",
            "Iteration:  82000\n",
            "[6 1 1 ... 9 9 1] [6 3 1 ... 7 7 9]\n",
            "0.447625\n",
            "Iteration:  83000\n",
            "[4 1 9 ... 9 5 8] [6 3 1 ... 7 7 9]\n",
            "0.44175\n",
            "Iteration:  84000\n",
            "[4 1 9 ... 9 5 8] [6 3 1 ... 7 7 9]\n",
            "0.451375\n",
            "Iteration:  85000\n",
            "[6 1 5 ... 3 6 5] [6 3 1 ... 7 7 9]\n",
            "0.44075\n",
            "Iteration:  86000\n",
            "[6 1 5 ... 9 5 8] [6 3 1 ... 7 7 9]\n",
            "0.439375\n",
            "Iteration:  87000\n",
            "[6 1 5 ... 9 6 8] [6 3 1 ... 7 7 9]\n",
            "0.454875\n",
            "Iteration:  88000\n",
            "[6 1 9 ... 9 9 8] [6 3 1 ... 7 7 9]\n",
            "0.4595\n",
            "Iteration:  89000\n",
            "[6 1 1 ... 9 9 9] [6 3 1 ... 7 7 9]\n",
            "0.443625\n",
            "Iteration:  90000\n",
            "[6 1 9 ... 9 9 8] [6 3 1 ... 7 7 9]\n",
            "0.462\n",
            "Iteration:  91000\n",
            "[6 1 5 ... 9 6 8] [6 3 1 ... 7 7 9]\n",
            "0.434\n",
            "Iteration:  92000\n",
            "[6 1 9 ... 9 9 1] [6 3 1 ... 7 7 9]\n",
            "0.471125\n",
            "Iteration:  93000\n",
            "[6 1 5 ... 9 6 4] [6 3 1 ... 7 7 9]\n",
            "0.461875\n",
            "Iteration:  94000\n",
            "[6 1 9 ... 9 9 8] [6 3 1 ... 7 7 9]\n",
            "0.47275\n",
            "Iteration:  95000\n",
            "[6 1 9 ... 9 9 8] [6 3 1 ... 7 7 9]\n",
            "0.46125\n",
            "Iteration:  96000\n",
            "[6 1 9 ... 9 9 8] [6 3 1 ... 7 7 9]\n",
            "0.445875\n",
            "Iteration:  97000\n",
            "[4 1 9 ... 4 5 5] [6 3 1 ... 7 7 9]\n",
            "0.409125\n",
            "Iteration:  98000\n",
            "[6 1 5 ... 9 3 8] [6 3 1 ... 7 7 9]\n",
            "0.465875\n",
            "Iteration:  99000\n",
            "[6 1 9 ... 9 9 1] [6 3 1 ... 7 7 9]\n",
            "0.4455\n"
          ]
        }
      ]
    },
    {
      "cell_type": "code",
      "source": [
        "def make_predictions(X, W1, b1, W2, b2):\n",
        "    _, _, _, A2 = forward_prop(W1, b1, W2, b2, X)\n",
        "    predictions = get_predictions(A2)\n",
        "    return predictions\n",
        "\n",
        "def test_prediction(index, W1, b1, W2, b2):\n",
        "    current_image = x_train[:, index, None]\n",
        "    prediction = make_predictions(x_train[:, index, None], W1, b1, W2, b2)\n",
        "    label = y_train[index]\n",
        "    print(\"Prediction: \", prediction)\n",
        "    print(\"Label: \", label)\n",
        "\n",
        "    current_image = current_image.reshape((28, 28)) * 255\n",
        "    plt.gray()\n",
        "    plt.imshow(current_image, interpolation='nearest')\n",
        "    plt.show()"
      ],
      "metadata": {
        "id": "g1a_ukETW3vx"
      },
      "execution_count": null,
      "outputs": []
    },
    {
      "cell_type": "code",
      "source": [
        "test_prediction(0, W1, b1, W2, b2)\n",
        "test_prediction(1, W1, b1, W2, b2)\n",
        "test_prediction(2, W1, b1, W2, b2)\n",
        "test_prediction(3, W1, b1, W2, b2)"
      ],
      "metadata": {
        "colab": {
          "base_uri": "https://localhost:8080/",
          "height": 1000
        },
        "id": "3Ru0rXh2W44E",
        "outputId": "27389066-956a-4f4e-d4aa-bd1ea073c712"
      },
      "execution_count": null,
      "outputs": [
        {
          "output_type": "stream",
          "name": "stdout",
          "text": [
            "Prediction:  [6]\n",
            "Label:  6\n"
          ]
        },
        {
          "output_type": "display_data",
          "data": {
            "text/plain": [
              "<Figure size 640x480 with 1 Axes>"
            ],
            "image/png": "[encoded data removed]"
          },
          "metadata": {}
        },
        {
          "output_type": "stream",
          "name": "stdout",
          "text": [
            "Prediction:  [1]\n",
            "Label:  3\n"
          ]
        },
        {
          "output_type": "display_data",
          "data": {
            "text/plain": [
              "<Figure size 640x480 with 1 Axes>"
            ],
            "image/png": "[encoded data removed]"
          },
          "metadata": {}
        },
        {
          "output_type": "stream",
          "name": "stdout",
          "text": [
            "Prediction:  [5]\n",
            "Label:  1\n"
          ]
        },
        {
          "output_type": "display_data",
          "data": {
            "text/plain": [
              "<Figure size 640x480 with 1 Axes>"
            ],
            "image/png": "[encoded data removed]"
          },
          "metadata": {}
        },
        {
          "output_type": "stream",
          "name": "stdout",
          "text": [
            "Prediction:  [9]\n",
            "Label:  1\n"
          ]
        },
        {
          "output_type": "display_data",
          "data": {
            "text/plain": [
              "<Figure size 640x480 with 1 Axes>"
            ],
            "image/png": "[encoded data removed]"
          },
          "metadata": {}
        }
      ]
    },
    {
      "cell_type": "code",
      "source": [
        "test_predictions = make_predictions(x_test, W1, b1, W2, b2)\n",
        "accuracy = get_accuracy(test_predictions, y_test)"
      ],
      "metadata": {
        "colab": {
          "base_uri": "https://localhost:8080/"
        },
        "id": "GTe2fw-4Xdmm",
        "outputId": "d0f801c2-1ebc-4393-88fd-57c5550dad42"
      },
      "execution_count": null,
      "outputs": [
        {
          "output_type": "stream",
          "name": "stdout",
          "text": [
            "[5 0 5 ... 5 9 5] [0 0 0 ... 9 9 9]\n"
          ]
        }
      ]
    },
    {
      "cell_type": "code",
      "source": [
        "print(\"Accuracy: \",accuracy)"
      ],
      "metadata": {
        "colab": {
          "base_uri": "https://localhost:8080/"
        },
        "id": "9nht27dgYBxM",
        "outputId": "02c4bb97-c2b4-426a-e58d-bccc6336c017"
      },
      "execution_count": null,
      "outputs": [
        {
          "output_type": "stream",
          "name": "stdout",
          "text": [
            "Accuracy:  0.235\n"
          ]
        }
      ]
    }
  ]
}