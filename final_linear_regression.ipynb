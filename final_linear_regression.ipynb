{
 "cells": [
  {
   "cell_type": "code",
   "execution_count": null,
   "metadata": {},
   "outputs": [],
   "source": [
    "import numpy as np\n",
    "import pandas as pd\n",
    "import matplotlib.pyplot as plt"
   ]
  },
  {
   "cell_type": "code",
   "execution_count": null,
   "metadata": {},
   "outputs": [],
   "source": [
    "ds = pd.read_csv('train.csv').to_numpy()\n",
    "x_train = ds[:, :-1]\n",
    "y_train = ds[:, -1]\n",
    "df = pd.read_csv('test.csv').to_numpy()\n",
    "x_test = df[:, :-1]\n",
    "y_test = df[:, -1]"
   ]
  },
  {
   "cell_type": "code",
   "execution_count": null,
   "metadata": {},
   "outputs": [],
   "source": [
    "class lin_regr:\n",
    "  def __init__(self, lr = 0.001, n_iters=1000):\n",
    "    self.lr = lr\n",
    "    self.n_iters = n_iters\n",
    "    self.weights = None\n",
    "    self.bias = None\n",
    "\n",
    "  def fit(self, x_train, y_train):\n",
    "    n_rows, n_cols = x_train.shape\n",
    "    self.weights = np.zeros(n_cols)\n",
    "    self.bias = 0\n",
    "\n",
    "    for _ in range(self.n_iters):\n",
    "      y_pred = np.dot(x_train, self.weights) + self.bias\n",
    "\n",
    "      dw = (1/ n_rows) * np.dot(x_train.T, (y_pred - y_train))\n",
    "      db = (1/ n_rows) * np.sum(y_pred-y_train)\n",
    "\n",
    "      self.weights = self.weights - self.lr * dw\n",
    "      self.bias = self.bias - self.lr * db\n",
    "\n",
    "  def predict(self, x_test):\n",
    "    y_pred = np.dot(x_test, self.weights) + self.bias\n",
    "    return y_pred"
   ]
  },
  {
   "cell_type": "code",
   "execution_count": null,
   "metadata": {},
   "outputs": [],
   "source": [
    "reg = lin_regr(lr=0.01)\n",
    "reg.fit(x_train, y_train)\n",
    "predictions = reg.predict(x_test)"
   ]
  },
  {
   "cell_type": "code",
   "execution_count": null,
   "metadata": {},
   "outputs": [],
   "source": [
    "def mse(y_test, predictions):\n",
    "  return np.mean((y_test - predictions)**2)\n",
    "\n",
    "mse = mse(y_test, predictions)\n",
    "print(mse)"
   ]
  }
 ],
 "metadata": {
  "language_info": {
   "name": "python"
  }
 },
 "nbformat": 4,
 "nbformat_minor": 2
}
